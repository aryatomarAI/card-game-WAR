{
 "cells": [
  {
   "cell_type": "code",
   "execution_count": 1,
   "metadata": {},
   "outputs": [],
   "source": [
    "# The objective of the game is to win all of the cards.\n",
    "\n",
    "# The deck is divided evenly among the players, giving each a down stack. In unison, each player reveals the top card of their \n",
    "#deck—this is a \"battle\"—and the player with the higher card takes both of the cards played and moves them to their stack. \n",
    "#Aces are high, and suits are ignored.\n",
    "\n",
    "#If the two cards played are of equal value, then there is a \"war\". Both players place the next card of their pile face down\n",
    "#(some variants have three face down cards) and then another card face-up. The owner of the higher face-up card wins the war and\n",
    "#adds all the cards on the table to the bottom of their deck. If the face-up cards are again equal then the battle repeats with\n",
    "#another set of face-down/up cards. This repeats until one player's face-up card is higher than their opponent's"
   ]
  },
  {
   "cell_type": "code",
   "execution_count": 2,
   "metadata": {},
   "outputs": [],
   "source": [
    "# We to first define classes which we will be using in game's final code\n",
    "# The Classes are as follows:\n",
    "# Card Class\n",
    "#Deck Class\n",
    "#Player Class\n",
    "#and then we will write game logic using these classes"
   ]
  },
  {
   "cell_type": "code",
   "execution_count": 1,
   "metadata": {},
   "outputs": [],
   "source": [
    "# Global class Objects variables\n",
    "import random\n",
    "suits=('Hearts','Diamonds','Spades','Clubs')\n",
    "ranks=('Two','Three','Four','Five','Six','Seven','Eight','Nine','Ten','Jack','Queen','King','Ace')\n",
    "values={'Two':2,'Three':3,'Four':4,'Five':5,'Six':6,'Seven':7,'Eight':8,'Nine':9,'Ten':10,'Jack':11,'Queen':12,'King':13,'Ace':14}"
   ]
  },
  {
   "cell_type": "code",
   "execution_count": 2,
   "metadata": {},
   "outputs": [],
   "source": [
    "# In Card Class we will define suit,rank and value of a card\n",
    "class Card:\n",
    "    def __init__ (self,suits,ranks):\n",
    "        self.suits=suits\n",
    "        self.ranks=ranks\n",
    "        self.value=values[ranks]\n",
    "    \n",
    "    def __str__(self):\n",
    "        return self.ranks + \" of \" + self.suits"
   ]
  },
  {
   "cell_type": "code",
   "execution_count": 3,
   "metadata": {},
   "outputs": [],
   "source": [
    "four_of_diamonds=Card('Diamonds','Four')"
   ]
  },
  {
   "cell_type": "code",
   "execution_count": 4,
   "metadata": {},
   "outputs": [
    {
     "name": "stdout",
     "output_type": "stream",
     "text": [
      "Four of Diamonds\n"
     ]
    }
   ],
   "source": [
    "print(four_of_diamonds)"
   ]
  },
  {
   "cell_type": "code",
   "execution_count": 5,
   "metadata": {},
   "outputs": [
    {
     "data": {
      "text/plain": [
       "4"
      ]
     },
     "execution_count": 5,
     "metadata": {},
     "output_type": "execute_result"
    }
   ],
   "source": [
    "four_of_diamonds.value"
   ]
  },
  {
   "cell_type": "code",
   "execution_count": 6,
   "metadata": {},
   "outputs": [],
   "source": [
    "# For Deck Class we have to define all 52 cards\n",
    "# Then we have to craete a list in which we will place all 52 that we have created\n",
    "# Then we have to shuffle the card list\n",
    "# And lastly we have to pop out card from the list"
   ]
  },
  {
   "cell_type": "code",
   "execution_count": 7,
   "metadata": {},
   "outputs": [],
   "source": [
    "class Deck:\n",
    "    def __init__ (self):\n",
    "        self.cards_deck=[]\n",
    "        for suit in suits:\n",
    "            for rank in ranks:\n",
    "                created_cards=Card(suit,rank)\n",
    "                self.cards_deck.append(created_cards)\n",
    "    def Shuffle (self):\n",
    "        random.shuffle(self.cards_deck)\n",
    "    def deal_one (self):\n",
    "        return self.cards_deck.pop()\n",
    "        \n",
    "        "
   ]
  },
  {
   "cell_type": "code",
   "execution_count": 8,
   "metadata": {},
   "outputs": [],
   "source": [
    "new_deck=Deck()"
   ]
  },
  {
   "cell_type": "code",
   "execution_count": 9,
   "metadata": {},
   "outputs": [],
   "source": [
    "new_deck.Shuffle()"
   ]
  },
  {
   "cell_type": "code",
   "execution_count": 10,
   "metadata": {},
   "outputs": [],
   "source": [
    "new_list=[]\n",
    "new_list.append(new_deck.cards_deck[-1])\n"
   ]
  },
  {
   "cell_type": "code",
   "execution_count": 11,
   "metadata": {
    "scrolled": true
   },
   "outputs": [
    {
     "name": "stdout",
     "output_type": "stream",
     "text": [
      "5\n"
     ]
    }
   ],
   "source": [
    "print(new_list[-1].value)"
   ]
  },
  {
   "cell_type": "code",
   "execution_count": null,
   "metadata": {},
   "outputs": [],
   "source": []
  },
  {
   "cell_type": "code",
   "execution_count": 13,
   "metadata": {},
   "outputs": [],
   "source": [
    "# Player Class\n",
    "# This class will used to hold player cards\n",
    "# player should be able to add or remove single or multiple cards to their card lists \n",
    "# cards will be added in the end of the cards list and remove or pop out from the starting of the list"
   ]
  },
  {
   "cell_type": "code",
   "execution_count": 14,
   "metadata": {},
   "outputs": [],
   "source": [
    "class Player:\n",
    "    def __init__(self,name):\n",
    "        self.name = name\n",
    "        # A new player has no cards\n",
    "        self.cards_deck = [] \n",
    "        \n",
    "    def remove_card(self):\n",
    "        # Note we remove one card from the list of all_cards\n",
    "        # We state 0 to remove from the \"top\" of the deck\n",
    "        # We'll imagine index -1 as the bottom of the deck\n",
    "        return self.cards_deck.pop(0)\n",
    "    \n",
    "    def add_cards(self,new_cards):\n",
    "        if type(new_cards) == type([]):\n",
    "            self.cards_deck.extend(new_cards)\n",
    "        else:\n",
    "            self.cards_deck.append(new_cards)\n",
    "    \n",
    "    \n",
    "    def __str__(self):\n",
    "        return f'Player {self.name} has {len(self.cards_deck)} cards.'"
   ]
  },
  {
   "cell_type": "code",
   "execution_count": 15,
   "metadata": {},
   "outputs": [],
   "source": [
    "new_player=Player('Arya')"
   ]
  },
  {
   "cell_type": "code",
   "execution_count": 16,
   "metadata": {},
   "outputs": [],
   "source": [
    "player_one=Player('One')"
   ]
  },
  {
   "cell_type": "code",
   "execution_count": 17,
   "metadata": {},
   "outputs": [
    {
     "name": "stdout",
     "output_type": "stream",
     "text": [
      "Player One has 0 cards.\n"
     ]
    }
   ],
   "source": [
    "print(player_one)"
   ]
  },
  {
   "cell_type": "code",
   "execution_count": null,
   "metadata": {},
   "outputs": [],
   "source": []
  },
  {
   "cell_type": "code",
   "execution_count": null,
   "metadata": {},
   "outputs": [],
   "source": []
  },
  {
   "cell_type": "code",
   "execution_count": 20,
   "metadata": {},
   "outputs": [
    {
     "name": "stdout",
     "output_type": "stream",
     "text": [
      "Player Arya has 0 cards.\n"
     ]
    }
   ],
   "source": [
    "print(new_player)"
   ]
  },
  {
   "cell_type": "code",
   "execution_count": null,
   "metadata": {},
   "outputs": [],
   "source": []
  },
  {
   "cell_type": "code",
   "execution_count": null,
   "metadata": {},
   "outputs": [],
   "source": []
  },
  {
   "cell_type": "code",
   "execution_count": 24,
   "metadata": {},
   "outputs": [
    {
     "name": "stdout",
     "output_type": "stream",
     "text": [
      "player Arya has 4 cards\n"
     ]
    }
   ],
   "source": [
    "print(new_player)"
   ]
  },
  {
   "cell_type": "code",
   "execution_count": 25,
   "metadata": {},
   "outputs": [],
   "source": [
    "# Game Logic"
   ]
  },
  {
   "cell_type": "code",
   "execution_count": 26,
   "metadata": {},
   "outputs": [],
   "source": [
    "# In this game we have two players each player have 26 cards "
   ]
  },
  {
   "cell_type": "code",
   "execution_count": 27,
   "metadata": {},
   "outputs": [],
   "source": [
    "# Now both players draw a card from their respective deck if value of one player card is greater than that of other player's card \n",
    "# then player's card that has lower value lost and that will be given to the other player"
   ]
  },
  {
   "cell_type": "code",
   "execution_count": 42,
   "metadata": {},
   "outputs": [],
   "source": [
    "# Assigning player one and player two equal shuffled cards\n",
    "player_one=Player('One')\n",
    "player_two=Player('Two')\n",
    "\n",
    "new_deck1=Deck()\n",
    "new_deck1.Shuffle()\n",
    "\n",
    "for x in range(26):\n",
    "    player_one.add_cards(new_deck1.deal_one())\n",
    "    player_two.add_cards(new_deck1.deal_one())"
   ]
  },
  {
   "cell_type": "code",
   "execution_count": 43,
   "metadata": {},
   "outputs": [
    {
     "data": {
      "text/plain": [
       "26"
      ]
     },
     "execution_count": 43,
     "metadata": {},
     "output_type": "execute_result"
    }
   ],
   "source": [
    "#Testing Code\n",
    "len(player_one.cards_deck)"
   ]
  },
  {
   "cell_type": "code",
   "execution_count": 44,
   "metadata": {},
   "outputs": [
    {
     "name": "stdout",
     "output_type": "stream",
     "text": [
      "Eight of Clubs\n"
     ]
    }
   ],
   "source": [
    "#Testing Code\n",
    "player_one_cards = []\n",
    "player_one_cards.append(player_one.remove_card())\n",
    "print (player_one_cards[-1])"
   ]
  },
  {
   "cell_type": "code",
   "execution_count": null,
   "metadata": {},
   "outputs": [],
   "source": []
  },
  {
   "cell_type": "code",
   "execution_count": 45,
   "metadata": {},
   "outputs": [],
   "source": [
    "game_on=True"
   ]
  },
  {
   "cell_type": "code",
   "execution_count": 46,
   "metadata": {},
   "outputs": [
    {
     "name": "stdout",
     "output_type": "stream",
     "text": [
      "round 1\n",
      "round 2\n",
      "round 3\n",
      "round 4\n",
      "round 5\n",
      "round 6\n",
      "round 7\n",
      "round 8\n",
      "round 9\n",
      "round 10\n",
      "round 11\n",
      "round 12\n",
      "round 13\n",
      "round 14\n",
      "WAR!\n",
      "round 15\n",
      "round 16\n",
      "round 17\n",
      "round 18\n",
      "round 19\n",
      "round 20\n",
      "round 21\n",
      "round 22\n",
      "round 23\n",
      "round 24\n",
      "round 25\n",
      "round 26\n",
      "round 27\n",
      "round 28\n",
      "round 29\n",
      "round 30\n",
      "round 31\n",
      "round 32\n",
      "round 33\n",
      "round 34\n",
      "round 35\n",
      "round 36\n",
      "round 37\n",
      "round 38\n",
      "round 39\n",
      "round 40\n",
      "round 41\n",
      "round 42\n",
      "round 43\n",
      "WAR!\n",
      "round 44\n",
      "round 45\n",
      "round 46\n",
      "round 47\n",
      "round 48\n",
      "round 49\n",
      "round 50\n",
      "round 51\n",
      "round 52\n",
      "round 53\n",
      "round 54\n",
      "round 55\n",
      "round 56\n",
      "round 57\n",
      "WAR!\n",
      "round 58\n",
      "round 59\n",
      "round 60\n",
      "round 61\n",
      "round 62\n",
      "round 63\n",
      "round 64\n",
      "round 65\n",
      "round 66\n",
      "round 67\n",
      "round 68\n",
      "round 69\n",
      "round 70\n",
      "WAR!\n",
      "round 71\n",
      "WAR!\n",
      "round 72\n",
      "Player two is out of cards!, Player one has won the match!!\n"
     ]
    }
   ],
   "source": [
    "round_no=0\n",
    "while game_on:\n",
    "    round_no +=1\n",
    "    print(f'round {round_no}')\n",
    "    \n",
    "    # Checking if player 1 or player 2 have won the mathch or not.In the starting of the match there is no way that any player should have won\n",
    "    \n",
    "    if len(player_one.cards_deck)==0:\n",
    "        print ('Player one is out of cards!, Player two has won the match!!')\n",
    "        game_on=False\n",
    "        break\n",
    "    if len(player_two.cards_deck)==0:\n",
    "        print ('Player two is out of cards!, Player one has won the match!!') \n",
    "        game_on=False\n",
    "        break\n",
    "    \n",
    "    # Start a new Round\n",
    "    \n",
    "    player_one_cards = []\n",
    "    player_one_cards.append(player_one.remove_card())\n",
    "    \n",
    "    player_two_cards = []\n",
    "    player_two_cards.append(player_two.remove_card())\n",
    "\n",
    "    \n",
    "    # Checking for a war or if player one card value is greater than that of player two card value or vice-versa\n",
    "    # Note that a war will only happen if 2 player's card values are equal\n",
    "    \n",
    "    at_war=True\n",
    "    while at_war:\n",
    "        if player_one_cards[-1].value > player_two_cards[-1].value:\n",
    "            player_one.add_cards(player_one_cards)\n",
    "            player_one.add_cards(player_two_cards)\n",
    "            at_war=False\n",
    "        \n",
    "        elif player_one_cards[-1].value < player_two_cards[-1].value:\n",
    "            player_two.add_cards(player_one_cards)\n",
    "            player_two.add_cards(player_two_cards)\n",
    "            at_war=False\n",
    "            \n",
    "        else:\n",
    "            print('WAR!')\n",
    "            \n",
    "            if len(player_one.cards_deck) < 5:\n",
    "                print('Player one unable to play WAR!')\n",
    "                print('Player two has won the Match!')\n",
    "                game_on=False\n",
    "                break\n",
    "            elif len(player_two.cards_deck) < 5:\n",
    "                print('Player two unable to play WAR!')\n",
    "                print('Player one has won the Match!')\n",
    "                game_on=False\n",
    "                break\n",
    "            else:\n",
    "                for num in range(5):\n",
    "                    player_one_cards.append(player_one.remove_card())\n",
    "                    player_two_cards.append(player_two.remove_card())\n",
    "            \n",
    "    \n",
    "    \n",
    "    \n",
    "    "
   ]
  },
  {
   "cell_type": "code",
   "execution_count": null,
   "metadata": {},
   "outputs": [],
   "source": []
  },
  {
   "cell_type": "code",
   "execution_count": null,
   "metadata": {},
   "outputs": [],
   "source": []
  }
 ],
 "metadata": {
  "kernelspec": {
   "display_name": "Python 3",
   "language": "python",
   "name": "python3"
  },
  "language_info": {
   "codemirror_mode": {
    "name": "ipython",
    "version": 3
   },
   "file_extension": ".py",
   "mimetype": "text/x-python",
   "name": "python",
   "nbconvert_exporter": "python",
   "pygments_lexer": "ipython3",
   "version": "3.7.3"
  }
 },
 "nbformat": 4,
 "nbformat_minor": 2
}
